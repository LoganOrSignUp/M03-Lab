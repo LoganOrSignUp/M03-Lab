{
 "cells": [
  {
   "cell_type": "code",
   "execution_count": 2,
   "id": "acef3db6-cf0e-4d60-b5e8-ff8927cf81a9",
   "metadata": {},
   "outputs": [
    {
     "name": "stdin",
     "output_type": "stream",
     "text": [
      "Enter the year:  2020\n",
      "Enter the make:  Toyota\n",
      "Enter the model:  Corolla\n",
      "Enter the number of doors (2 or 4):  4\n",
      "Enter the type of roof (solid or sun roof):  solid\n"
     ]
    },
    {
     "name": "stdout",
     "output_type": "stream",
     "text": [
      "Vehicle type: car\n",
      "Year: 2020\n",
      "Make: Toyota\n",
      "Model: Corolla\n",
      "Number of doors: 4\n",
      "Type of roof: solid\n"
     ]
    }
   ],
   "source": [
    "#create vehicle class\n",
    "class Vehicle:\n",
    "    def __init__(self, vehicle_type):\n",
    "        self.vehicle_type = vehicle_type\n",
    "#create automobile class as subclass of vehicle   \n",
    "class Automobile(Vehicle):\n",
    "    def __init__(self, vehicle_type, year, make, model, doors, roof):\n",
    "        super().__init__(vehicle_type)\n",
    "        #attributes of the automobile\n",
    "        self.year = year\n",
    "        self.make = make\n",
    "        self.model = model\n",
    "        self.doors = doors\n",
    "        self.roof = roof\n",
    "#car info function\n",
    "def input_car():\n",
    "    #input info about car\n",
    "    vehicle_type = \"car\"\n",
    "    year = input(\"Input the year: \")\n",
    "    make = input(\"Input the make: \")\n",
    "    model = input(\"Input the model: \")\n",
    "    doors = input(\"Input the number of doors: \")\n",
    "    roof = input(\"Input the type of roof: \")\n",
    "    car = Automobile(vehicle_type, year, make, model, doors, roof)\n",
    "    return car\n",
    "#display info about car\n",
    "def display_car_info(car):\n",
    "    print(\"Vehicle type:\", car.vehicle_type)\n",
    "    print(\"Year:\", car.year)\n",
    "    print(\"Make:\", car.make)\n",
    "    print(\"Model:\", car.model)\n",
    "    print(\"Number of doors:\", car.doors)\n",
    "    print(\"Type of roof:\", car.roof)\n",
    "\n",
    "#run program\n",
    "car = input_car()\n",
    "display_car_info(car)"
   ]
  }
 ],
 "metadata": {
  "kernelspec": {
   "display_name": "Python 3 (ipykernel)",
   "language": "python",
   "name": "python3"
  },
  "language_info": {
   "codemirror_mode": {
    "name": "ipython",
    "version": 3
   },
   "file_extension": ".py",
   "mimetype": "text/x-python",
   "name": "python",
   "nbconvert_exporter": "python",
   "pygments_lexer": "ipython3",
   "version": "3.11.5"
  }
 },
 "nbformat": 4,
 "nbformat_minor": 5
}
